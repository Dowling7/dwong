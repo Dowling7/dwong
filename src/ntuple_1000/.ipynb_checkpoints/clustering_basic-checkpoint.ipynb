{
 "cells": [
  {
   "cell_type": "code",
   "execution_count": 1,
   "id": "eddb3ecc",
   "metadata": {},
   "outputs": [],
   "source": [
    "ifile=\"electron_520_1000eve.root\""
   ]
  },
  {
   "cell_type": "code",
   "execution_count": 2,
   "id": "67e89e6e",
   "metadata": {},
   "outputs": [],
   "source": [
    "import csv#save and read data\n",
    "from tqdm import tqdm#progress bar\n",
    "import uproot3 as uproot\n",
    "import uproot as uproot4\n",
    "import numpy as np\n",
    "import numba\n",
    "import awkward as ak\n",
    "import matplotlib.pyplot as plt\n",
    "from matplotlib import cm\n",
    "from matplotlib.ticker import LinearLocator, FormatStrFormatter\n",
    "from matplotlib import rcParams\n",
    "import mplhep as hep\n",
    "plt.style.use(hep.style.ROOT)\n",
    "import os,sys\n",
    "import pandas as pd\n",
    "from scipy.stats import halfnorm\n",
    "from sklearn.cluster import KMeans\n",
    "import random\n",
    "from scipy.stats import binned_statistic\n",
    "from scipy.stats import binned_statistic_2d\n",
    "from scipy.optimize import curve_fit\n",
    "from scipy.stats import crystalball\n",
    "from lmfit import Model\n",
    "import copy\n",
    "import math\n",
    "from scipy.stats import halfnorm\n",
    "from sklearn.cluster import KMeans#clustering\n",
    "from sklearn.cluster import Birch#clustering\n",
    "from sklearn.mixture import GaussianMixture#clustering\n",
    "from sklearn.cluster import DBSCAN#clustering\n",
    "from scipy.stats import binned_statistic"
   ]
  },
  {
   "cell_type": "code",
   "execution_count": 3,
   "id": "fc6be780",
   "metadata": {},
   "outputs": [],
   "source": [
    "# Process Data\n",
    "def getData(fname=\"\", procName=\"Events\"):\n",
    "    kn_dict = uproot.open(fname)[\"Events\"].arrays()\n",
    "    kn_dict_ak1 = {name.decode(): ak.from_awkward0(array) for name, array in kn_dict.items()}\n",
    "    kn_events = ak.zip({\"Tracks\":ak.zip({\n",
    "                                        \"n_tracks\":   kn_dict_ak1[\"n_tracks\"],\n",
    "                                        \"track_x_st3\":   kn_dict_ak1[\"track_x_st3\"],\n",
    "                                        \"track_y_st3\":   kn_dict_ak1[\"track_y_st3\"],\n",
    "                                        \"track_z_st3\":   kn_dict_ak1[\"track_z_st3\"],\n",
    "                                      }),\n",
    "                        \"Electrons\":ak.zip({\n",
    "                                            \"ge\":      kn_dict_ak1[\"ge\"],\n",
    "                                            \"gvx\":      kn_dict_ak1[\"gvx\"],\n",
    "                                            \"gvy\":      kn_dict_ak1[\"gvy\"],\n",
    "                                            \"gvz\":      kn_dict_ak1[\"gvz\"],\n",
    "                                            \"gpx\":      kn_dict_ak1[\"gpx\"],\n",
    "                                            \"gpy\":      kn_dict_ak1[\"gpy\"],\n",
    "                                            \"gpz\":      kn_dict_ak1[\"gpz\"],\n",
    "                                        }),\n",
    "                        \"Hits\":ak.zip({\n",
    "                                      \"detID\":   kn_dict_ak1[\"hit_detID\"],\n",
    "                                      \"edep\":    kn_dict_ak1[\"hit_edep\"],\n",
    "                                      \"elmID\":   kn_dict_ak1[\"hit_elmID\"],\n",
    "                                      \"truthx\":  kn_dict_ak1[\"hit_truthx\"],\n",
    "                                      \"truthy\":  kn_dict_ak1[\"hit_truthy\"],\n",
    "                                      \"truthz\":  kn_dict_ak1[\"hit_truthz\"],\n",
    "                                      \"hit_pos\":  kn_dict_ak1[\"hit_pos\"],\n",
    "                                      }),\n",
    "                       }, depth_limit=1)\n",
    "    return kn_events"
   ]
  },
  {
   "cell_type": "code",
   "execution_count": 4,
   "id": "928d4734",
   "metadata": {},
   "outputs": [],
   "source": [
    "def emcal_simhit_selection(arr):\n",
    "    mask = (arr.detID == 100)\n",
    "    return mask\n",
    "\n",
    "def emcal_simhit_selection_energy(arr, e):\n",
    "    mask = (arr.edep >= e)\n",
    "    return mask\n",
    "\n",
    "def h2_selection(arr):\n",
    "    mask = (arr.detID >= 35) & (arr.detID <= 38)\n",
    "    return mask\n",
    "\n",
    "def st2_selection(arr):\n",
    "    mask = (arr.detID >= 13) & (arr.detID <= 18)\n",
    "    return mask\n",
    "\n",
    "def st3_selection(arr):\n",
    "    mask = (arr.detID >= 19) & (arr.detID <= 30)\n",
    "    return mask\n",
    "\n",
    "def h4_selection(arr):\n",
    "    mask = (arr.detID >= 41) & (arr.detID <= 46)\n",
    "    return mask"
   ]
  },
  {
   "cell_type": "code",
   "execution_count": 5,
   "id": "c0343504",
   "metadata": {},
   "outputs": [],
   "source": [
    "ntowersx=72\n",
    "ntowersy=36\n",
    "sizex=5.53 # in cm\n",
    "sizey=5.53 # in cm\n",
    "ecalx=[-200,200] #size in cm\n",
    "ecaly=[-100,100]\n",
    "binsx=ecalx[1]- ecalx[0]\n",
    "binsy=ecaly[1]- ecaly[0]\n",
    "sfc = 0.1146337964120158\n",
    "emin=0.0005"
   ]
  },
  {
   "cell_type": "code",
   "execution_count": 6,
   "id": "43028ded",
   "metadata": {},
   "outputs": [],
   "source": [
    "def emcal_byevent(dq_events2,evtNum):\n",
    "    dq_hits = dq_events2[evtNum][\"Hits\"]\n",
    "    # select emcal hits\n",
    "    emcal_mask = emcal_simhit_selection(dq_hits)\n",
    "    emcal_hits = dq_hits[emcal_mask]\n",
    "    emcal_energy_mask = emcal_simhit_selection_energy(emcal_hits, emin)\n",
    "    emcal_hits = emcal_hits[emcal_energy_mask]\n",
    "    #convert into coordinates and energy_dp\n",
    "    emcal_towerx = emcal_hits.elmID//ntowersy\n",
    "    emcal_towery = emcal_hits.elmID%ntowersy\n",
    "    emcal_x = ecalx[0]+emcal_towerx*sizex\n",
    "    emcal_y = ecaly[0]+emcal_towery*sizey\n",
    "    emcal_edep = emcal_hits.edep\n",
    "    return emcal_x, emcal_y, emcal_edep"
   ]
  },
  {
   "cell_type": "code",
   "execution_count": 7,
   "id": "6897436f",
   "metadata": {},
   "outputs": [],
   "source": [
    "def emcal_bytuple(file):\n",
    "    dq_events1 = getData(file,\"Events\")\n",
    "    x_pos = []#designed to be 2D\n",
    "    y_pos = []#designed to be 2D\n",
    "    eve_energy = []#designed to be 2D\n",
    "    for i in range(len(dq_events1[:][\"Hits\"].edep)):\n",
    "        output1=emcal_byevent(dq_events1, i)\n",
    "        if(len(output1[0])!=0):\n",
    "            x_pos.append(output1[0])\n",
    "            y_pos.append(output1[1])\n",
    "            eve_energy.append(output1[2])\n",
    "    return x_pos, y_pos, eve_energy"
   ]
  },
  {
   "cell_type": "code",
   "execution_count": 8,
   "id": "1c845dce",
   "metadata": {},
   "outputs": [],
   "source": [
    "def find_lead_clus(label, eve_num, eng_eve):\n",
    "    count=[0]*(len(np.unique(label)))\n",
    "    for i in range(len(label)):\n",
    "        count[label[i]]+=eng_eve[eve_num][i]\n",
    "    return np.argmax(count)"
   ]
  },
  {
   "cell_type": "code",
   "execution_count": 9,
   "id": "8d06f2e0",
   "metadata": {},
   "outputs": [],
   "source": [
    "def Clustering_tuple(file):\n",
    "    output=emcal_bytuple(file)\n",
    "    x_eve=output[0]\n",
    "    y_eve=output[1]\n",
    "    eng_eve=output[2]\n",
    "    labels=[]#2D, for all hits\n",
    "    lead_nums=[]#for each event\n",
    "    for i in range(len(eng_eve)):\n",
    "        coordinate=np.column_stack((x_eve[i],y_eve[i]))\n",
    "        brc = Birch(threshold=20, n_clusters=None)#maximum radius of a cluster is 20, no limit on how much clusters\n",
    "        brc.fit(coordinate)\n",
    "        label=brc.predict(coordinate)\n",
    "        labels.append(label)\n",
    "        lead_nums.append(find_lead_clus(label, i, eng_eve))\n",
    "    return labels, lead_nums, x_eve, y_eve, eng_eve"
   ]
  },
  {
   "cell_type": "code",
   "execution_count": 10,
   "id": "7d620eb2",
   "metadata": {},
   "outputs": [],
   "source": [
    "def find_coord(file):\n",
    "    output=Clustering_tuple(file)\n",
    "    labels=output[0]\n",
    "    lead_nums=output[1]\n",
    "    x_eve=output[2]\n",
    "    y_eve=output[3]\n",
    "    eng_eve=output[4]\n",
    "    new_x=[]\n",
    "    new_y=[]\n",
    "    new_eng=[]\n",
    "    for i in range(len(lead_nums)):\n",
    "        x_1d=[]\n",
    "        y_1d=[]\n",
    "        eng_1d=[]\n",
    "        for j, k in enumerate(labels[i]):\n",
    "            if (k==lead_nums[i]):\n",
    "                x_1d.append(x_eve[i][j])\n",
    "                y_1d.append(y_eve[i][j])\n",
    "                eng_1d.append(eng_eve[i][j])\n",
    "        new_x.append(x_1d)\n",
    "        new_y.append(y_1d)\n",
    "        new_eng.append(eng_1d)\n",
    "    return new_x, new_y, new_eng"
   ]
  },
  {
   "cell_type": "code",
   "execution_count": 11,
   "id": "4abe75b4",
   "metadata": {},
   "outputs": [],
   "source": [
    "def gen_data(file):\n",
    "    output=find_coord(file)\n",
    "    x_eve=output[0]\n",
    "    y_eve=output[1]\n",
    "    eng_eve=output[2]\n",
    "    wew_x = []\n",
    "    wew_y = []\n",
    "    for i in range(len(eng_eve)):\n",
    "        eng_tot=sum(eng_eve[i])\n",
    "        x_bar=(np.dot(x_eve[i], eng_eve[i]))/eng_tot\n",
    "        y_bar=(np.dot(y_eve[i], eng_eve[i]))/eng_tot\n",
    "        x_sq_eve = []\n",
    "        y_sq_eve = []\n",
    "        for j in range(len(eng_eve[i])):\n",
    "            x_sq_eve.append(eng_eve[i][j]*(x_eve[i][j]-x_bar)**2)\n",
    "            y_sq_eve.append(eng_eve[i][j]*(y_eve[i][j]-y_bar)**2)\n",
    "        try: wew_x.append(math.sqrt(sum(x_sq_eve)/eng_tot))\n",
    "        except ZeroDivisionError: pass\n",
    "        try: wew_y.append(math.sqrt(sum(y_sq_eve)/eng_tot))\n",
    "        except ZeroDivisionError: pass\n",
    "\n",
    "    return wew_x, wew_y\n",
    "            "
   ]
  },
  {
   "cell_type": "code",
   "execution_count": 12,
   "id": "54c66669",
   "metadata": {},
   "outputs": [],
   "source": [
    "def gen_plot():\n",
    "    file1 = \"muon_520_1000eve.root\" \n",
    "    file2 = \"electron_520_1000eve.root\" \n",
    "    output3= [gen_data(file1),gen_data(file2)]\n",
    "    fig = plt.figure(figsize=(10,8))\n",
    "    plt.hist(output3[0][0], bins=40, range=(0,20), histtype='step', label=\"muon\", density=True, color=\"blue\")\n",
    "    plt.hist(output3[1][0], bins=40, range=(0,20), histtype='step',label=\"electron\", density=True, color=\"red\")\n",
    "    plt.xlabel(\"Energy Weighted Width (x) w clustering [cm]\")\n",
    "    plt.ylabel('Proportion of Events')\n",
    "    plt.yscale('log')\n",
    "    plt.legend()\n",
    "    plt.show()"
   ]
  },
  {
   "cell_type": "code",
   "execution_count": 13,
   "id": "89b8b22a",
   "metadata": {},
   "outputs": [
    {
     "data": {
      "image/png": "[encoded data removed]",
      "text/plain": [
       "<Figure size 1000x800 with 1 Axes>"
      ]
     },
     "metadata": {},
     "output_type": "display_data"
    }
   ],
   "source": [
    "gen_plot()"
   ]
  },
  {
   "cell_type": "code",
   "execution_count": 259,
   "id": "9722669d",
   "metadata": {},
   "outputs": [],
   "source": [
    "output1=find_coord(ifile)\n",
    "output2=emcal_bytuple(ifile)"
   ]
  },
  {
   "cell_type": "code",
   "execution_count": 258,
   "id": "bc3d3d99",
   "metadata": {
    "scrolled": true
   },
   "outputs": [
    {
     "name": "stdout",
     "output_type": "stream",
     "text": [
      "[[-23.039999999999992, -17.50999999999999, -17.50999999999999, -17.50999999999999, -17.50999999999999, -11.97999999999999, -11.97999999999999, -11.97999999999999, -11.97999999999999, -6.449999999999989, -6.449999999999989, -6.449999999999989, -6.449999999999989, -6.449999999999989, -6.449999999999989, -6.449999999999989, -0.9199999999999875, -0.9199999999999875, -0.9199999999999875, -0.9199999999999875, 4.610000000000014, 21.200000000000017], [-23.039999999999992, -17.50999999999999, -11.97999999999999, -6.449999999999989, -6.449999999999989, -6.449999999999989, -6.449999999999989, -6.449999999999989, -0.9199999999999875, -0.9199999999999875, -0.9199999999999875, -0.9199999999999875, -0.9199999999999875, -0.9199999999999875, 4.610000000000014, 4.610000000000014, 4.610000000000014, 4.610000000000014, 4.610000000000014, 4.610000000000014, 10.140000000000015, 10.140000000000015, 10.140000000000015, 10.140000000000015, 10.140000000000015, 10.140000000000015, 10.140000000000015, 15.670000000000016, 15.670000000000016, 15.670000000000016, 15.670000000000016, 15.670000000000016, 21.200000000000017, 21.200000000000017, 21.200000000000017, 26.730000000000018, 32.26000000000002], [-34.099999999999994, -23.039999999999992, -23.039999999999992, -17.50999999999999, -17.50999999999999, -17.50999999999999, -17.50999999999999, -17.50999999999999, -11.97999999999999, -11.97999999999999, -11.97999999999999, -11.97999999999999, -11.97999999999999, -6.449999999999989, -6.449999999999989, -6.449999999999989, -6.449999999999989, -0.9199999999999875, -0.9199999999999875, -0.9199999999999875, -0.9199999999999875, 4.610000000000014, 4.610000000000014, 4.610000000000014, 10.140000000000015, 10.140000000000015]]\n",
      "\n",
      "[<Array [-23, -17.5, -17.5, ... 4.61, 21.2] type='22 * float64'>, <Array [-23, -17.5, -12, ... 21.2, 26.7, 32.3] type='37 * float64'>, <Array [-34.1, -23, -23, ... 4.61, 10.1, 10.1] type='26 * float64'>]\n"
     ]
    }
   ],
   "source": [
    "print(output1[0][:3])\n",
    "print()\n",
    "print(output2[0][:3])"
   ]
  },
  {
   "cell_type": "code",
   "execution_count": 260,
   "id": "57f8de00",
   "metadata": {},
   "outputs": [],
   "source": [
    "output=gen_data(ifile)"
   ]
  },
  {
   "cell_type": "code",
   "execution_count": 261,
   "id": "fbf61e73",
   "metadata": {},
   "outputs": [
    {
     "data": {
      "text/plain": [
       "1000"
      ]
     },
     "execution_count": 261,
     "metadata": {},
     "output_type": "execute_result"
    }
   ],
   "source": [
    "len(output[0])"
   ]
  },
  {
   "cell_type": "code",
   "execution_count": null,
   "id": "cd4ff72f",
   "metadata": {},
   "outputs": [],
   "source": []
  },
  {
   "cell_type": "code",
   "execution_count": null,
   "id": "bb145426",
   "metadata": {},
   "outputs": [],
   "source": [
    "def compare(file):\n",
    "    output1=gen_data(file)\n",
    "    "
   ]
  }
 ],
 "metadata": {
  "kernelspec": {
   "display_name": "Python 3 (ipykernel)",
   "language": "python",
   "name": "python3"
  },
  "language_info": {
   "codemirror_mode": {
    "name": "ipython",
    "version": 3
   },
   "file_extension": ".py",
   "mimetype": "text/x-python",
   "name": "python",
   "nbconvert_exporter": "python",
   "pygments_lexer": "ipython3",
   "version": "3.9.13"
  }
 },
 "nbformat": 4,
 "nbformat_minor": 5
}
