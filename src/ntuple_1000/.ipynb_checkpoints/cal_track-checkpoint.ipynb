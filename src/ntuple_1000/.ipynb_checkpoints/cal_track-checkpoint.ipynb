{
 "cells": [
  {
   "cell_type": "code",
   "execution_count": 5,
   "id": "670a1c55",
   "metadata": {},
   "outputs": [],
   "source": [
    "import csv#save and read data\n",
    "from tqdm import tqdm#progress bar\n",
    "import uproot3 as uproot\n",
    "import uproot as uproot4\n",
    "import numpy as np\n",
    "import numba\n",
    "import awkward as ak\n",
    "import matplotlib.pyplot as plt\n",
    "from matplotlib import cm\n",
    "from matplotlib.ticker import LinearLocator, FormatStrFormatter\n",
    "from matplotlib import rcParams\n",
    "import mplhep as hep\n",
    "plt.style.use(hep.style.ROOT)\n",
    "import os,sys\n",
    "import pandas as pd\n",
    "from scipy.stats import halfnorm\n",
    "from sklearn.cluster import KMeans\n",
    "import random\n",
    "from scipy.stats import binned_statistic\n",
    "from scipy.stats import binned_statistic_2d\n",
    "from scipy.optimize import curve_fit\n",
    "from scipy.stats import crystalball\n",
    "from lmfit import Model\n",
    "import copy\n",
    "import math\n",
    "from scipy.stats import halfnorm\n",
    "from sklearn.cluster import KMeans#clustering\n",
    "from sklearn.cluster import Birch#clustering\n",
    "from sklearn.mixture import GaussianMixture#clustering\n",
    "from sklearn.cluster import DBSCAN#clustering\n",
    "from scipy.stats import binned_statistic"
   ]
  },
  {
   "cell_type": "code",
   "execution_count": 6,
   "id": "e36c67ed",
   "metadata": {},
   "outputs": [],
   "source": [
    "# Process Data\n",
    "def getData(fname=\"\", procName=\"Events\"):\n",
    "    kn_dict = uproot.open(fname)[\"Events\"].arrays()\n",
    "    kn_dict_ak1 = {name.decode(): ak.from_awkward0(array) for name, array in kn_dict.items()}\n",
    "    kn_events = ak.zip({\"Tracks\":ak.zip({\n",
    "                                        \"n_tracks\":   kn_dict_ak1[\"n_tracks\"],\n",
    "                                        \"track_x_st3\":   kn_dict_ak1[\"track_x_st3\"],\n",
    "                                        \"track_y_st3\":   kn_dict_ak1[\"track_y_st3\"],\n",
    "                                        \"track_z_st3\":   kn_dict_ak1[\"track_z_st3\"],\n",
    "                                      }),\n",
    "                        \"Electrons\":ak.zip({\n",
    "                                            \"ge\":      kn_dict_ak1[\"ge\"],\n",
    "                                            \"gvx\":      kn_dict_ak1[\"gvx\"],\n",
    "                                            \"gvy\":      kn_dict_ak1[\"gvy\"],\n",
    "                                            \"gvz\":      kn_dict_ak1[\"gvz\"],\n",
    "                                            \"gpx\":      kn_dict_ak1[\"gpx\"],\n",
    "                                            \"gpy\":      kn_dict_ak1[\"gpy\"],\n",
    "                                            \"gpz\":      kn_dict_ak1[\"gpz\"],\n",
    "                                        }),\n",
    "                        \"Hits\":ak.zip({\n",
    "                                      \"detID\":   kn_dict_ak1[\"hit_detID\"],\n",
    "                                      \"edep\":    kn_dict_ak1[\"hit_edep\"],\n",
    "                                      \"elmID\":   kn_dict_ak1[\"hit_elmID\"],\n",
    "                                      \"truthx\":  kn_dict_ak1[\"hit_truthx\"],\n",
    "                                      \"truthy\":  kn_dict_ak1[\"hit_truthy\"],\n",
    "                                      \"truthz\":  kn_dict_ak1[\"hit_truthz\"],\n",
    "                                      \"hit_pos\":  kn_dict_ak1[\"hit_pos\"],\n",
    "                                      }),\n",
    "                        \"St23_Tracklet\":ak.zip({\n",
    "                                        \"st23tracklet_x_st1\":   kn_dict_ak1[\"st23tracklet_x_st1\"],\n",
    "                                        \"st23tracklet_x_st3\":   kn_dict_ak1[\"st23tracklet_x_st3\"],\n",
    "                                        \"st23tracklet_y_st1\":   kn_dict_ak1[\"st23tracklet_y_st1\"],\n",
    "                                        \"st23tracklet_y_st3\":   kn_dict_ak1[\"st23tracklet_y_st3\"],\n",
    "                                        }),\n",
    "                       }, depth_limit=1)\n",
    "    return kn_events"
   ]
  },
  {
   "cell_type": "code",
   "execution_count": 7,
   "id": "b31911e7",
   "metadata": {},
   "outputs": [],
   "source": [
    "def emcal_simhit_selection(arr):\n",
    "    mask = (arr.detID == 100)\n",
    "    return mask\n",
    "\n",
    "def emcal_simhit_selection_energy(arr, e):\n",
    "    mask = (arr.edep >= e)\n",
    "    return mask\n",
    "\n",
    "def h2_selection(arr):\n",
    "    mask = (arr.detID >= 35) & (arr.detID <= 38)\n",
    "    return mask\n",
    "\n",
    "def st2_selection(arr):\n",
    "    mask = (arr.detID >= 13) & (arr.detID <= 18)\n",
    "    return mask\n",
    "\n",
    "def st3_selection(arr):\n",
    "    mask = (arr.detID >= 19) & (arr.detID <= 30)\n",
    "    return mask\n",
    "\n",
    "def h4_selection(arr):\n",
    "    mask = (arr.detID >= 41) & (arr.detID <= 46)\n",
    "    return mask"
   ]
  },
  {
   "cell_type": "code",
   "execution_count": 9,
   "id": "5d09dadb",
   "metadata": {},
   "outputs": [],
   "source": [
    "dq_events = getData(\"electron_520_1000eve.root\",\"Events\")\n",
    "st3_x = ak.flatten(dq_events['St23_Tracklet'].st23tracklet_x_st3)\n",
    "st3_y = ak.flatten(dq_events['St23_Tracklet'].st23tracklet_y_st3)\n"
   ]
  },
  {
   "cell_type": "code",
   "execution_count": 12,
   "id": "3ae067c2",
   "metadata": {},
   "outputs": [
    {
     "data": {
      "text/plain": [
       "<Array [-2.64, -9.19, 11.3, ... 9.71, 15.6] type='10 * float32'>"
      ]
     },
     "execution_count": 12,
     "metadata": {},
     "output_type": "execute_result"
    }
   ],
   "source": [
    "for i in len"
   ]
  },
  {
   "cell_type": "code",
   "execution_count": null,
   "id": "5284d538",
   "metadata": {},
   "outputs": [],
   "source": []
  }
 ],
 "metadata": {
  "kernelspec": {
   "display_name": "Python 3 (ipykernel)",
   "language": "python",
   "name": "python3"
  },
  "language_info": {
   "codemirror_mode": {
    "name": "ipython",
    "version": 3
   },
   "file_extension": ".py",
   "mimetype": "text/x-python",
   "name": "python",
   "nbconvert_exporter": "python",
   "pygments_lexer": "ipython3",
   "version": "3.9.13"
  }
 },
 "nbformat": 4,
 "nbformat_minor": 5
}
